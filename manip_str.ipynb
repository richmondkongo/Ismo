{
 "cells": [
  {
   "cell_type": "code",
   "execution_count": 5,
   "source": [
    "\"\"\"\r\n",
    "file = open(\"myfile.txt\",\"r\")\r\n",
    "posts = file.readlines()[0]\r\n",
    "file.close()\r\n",
    "\"\"\""
   ],
   "outputs": [
    {
     "output_type": "execute_result",
     "data": {
      "text/plain": [
       "'\\nfile = open(\"myfile.txt\",\"r\")\\nposts = file.readlines()[0]\\nfile.close()\\n'"
      ]
     },
     "metadata": {},
     "execution_count": 5
    }
   ],
   "metadata": {}
  },
  {
   "cell_type": "code",
   "execution_count": 17,
   "source": [
    "import pandas as pd\r\n",
    "df = pd.read_hdf('data/post.h5')\r\n",
    "df"
   ],
   "outputs": [
    {
     "output_type": "execute_result",
     "data": {
      "text/html": [
       "<div>\n",
       "<style scoped>\n",
       "    .dataframe tbody tr th:only-of-type {\n",
       "        vertical-align: middle;\n",
       "    }\n",
       "\n",
       "    .dataframe tbody tr th {\n",
       "        vertical-align: top;\n",
       "    }\n",
       "\n",
       "    .dataframe thead th {\n",
       "        text-align: right;\n",
       "    }\n",
       "</style>\n",
       "<table border=\"1\" class=\"dataframe\">\n",
       "  <thead>\n",
       "    <tr style=\"text-align: right;\">\n",
       "      <th></th>\n",
       "      <th>id</th>\n",
       "      <th>contenu_post</th>\n",
       "      <th>img_post</th>\n",
       "      <th>nb_commentaires_post</th>\n",
       "      <th>lien_post</th>\n",
       "      <th>nb_commentaire_pos</th>\n",
       "      <th>nb_commentaire_neg</th>\n",
       "    </tr>\n",
       "  </thead>\n",
       "  <tbody>\n",
       "    <tr>\n",
       "      <th>0</th>\n",
       "      <td>16331317812347727</td>\n",
       "      <td>&lt;p&gt;La Maison de la PME de Société Générale Côt...</td>\n",
       "      <td>https://z-m-scontent.fabj2-1.fna.fbcdn.net/v/t...</td>\n",
       "      <td>15</td>\n",
       "      <td>https://m.facebook.com/story.php?story_fbid=41...</td>\n",
       "      <td>9</td>\n",
       "      <td>6</td>\n",
       "    </tr>\n",
       "    <tr>\n",
       "      <th>1</th>\n",
       "      <td>16331317842895026</td>\n",
       "      <td>&lt;p&gt;[Concours Jeunes Talents Art Contemporain]&lt;...</td>\n",
       "      <td>https://z-m-scontent.fabj2-1.fna.fbcdn.net/v/t...</td>\n",
       "      <td>2</td>\n",
       "      <td>https://m.facebook.com/story.php?story_fbid=41...</td>\n",
       "      <td>1</td>\n",
       "      <td>1</td>\n",
       "    </tr>\n",
       "    <tr>\n",
       "      <th>2</th>\n",
       "      <td>16331317871223795</td>\n",
       "      <td>&lt;p&gt;Hier s'est tenue la présentation des résult...</td>\n",
       "      <td>https://z-m-scontent.fabj2-1.fna.fbcdn.net/v/t...</td>\n",
       "      <td>1</td>\n",
       "      <td>https://m.facebook.com/story.php?story_fbid=41...</td>\n",
       "      <td>0</td>\n",
       "      <td>1</td>\n",
       "    </tr>\n",
       "    <tr>\n",
       "      <th>3</th>\n",
       "      <td>16331317899470031</td>\n",
       "      <td>&lt;p&gt;« Move for youth »  c’est le thème de l’act...</td>\n",
       "      <td>https://z-m-scontent.fabj2-1.fna.fbcdn.net/v/t...</td>\n",
       "      <td>4</td>\n",
       "      <td>https://m.facebook.com/story.php?story_fbid=41...</td>\n",
       "      <td>2</td>\n",
       "      <td>2</td>\n",
       "    </tr>\n",
       "    <tr>\n",
       "      <th>4</th>\n",
       "      <td>1633131792793516</td>\n",
       "      <td>&lt;p&gt;Vous avez adoré la première édition ? Nous ...</td>\n",
       "      <td>https://z-m-scontent.fabj2-1.fna.fbcdn.net/v/t...</td>\n",
       "      <td>0</td>\n",
       "      <td>https://m.facebook.com/story.php?story_fbid=41...</td>\n",
       "      <td>0</td>\n",
       "      <td>0</td>\n",
       "    </tr>\n",
       "    <tr>\n",
       "      <th>5</th>\n",
       "      <td>16331317955885136</td>\n",
       "      <td>&lt;p&gt;Commençons cette semaine avec une belle opp...</td>\n",
       "      <td>https://z-m-scontent.fabj2-1.fna.fbcdn.net/v/t...</td>\n",
       "      <td>3</td>\n",
       "      <td>https://m.facebook.com/story.php?story_fbid=41...</td>\n",
       "      <td>1</td>\n",
       "      <td>2</td>\n",
       "    </tr>\n",
       "  </tbody>\n",
       "</table>\n",
       "</div>"
      ],
      "text/plain": [
       "                  id                                       contenu_post  \\\n",
       "0  16331317812347727  <p>La Maison de la PME de Société Générale Côt...   \n",
       "1  16331317842895026  <p>[Concours Jeunes Talents Art Contemporain]<...   \n",
       "2  16331317871223795  <p>Hier s'est tenue la présentation des résult...   \n",
       "3  16331317899470031  <p>« Move for youth »  c’est le thème de l’act...   \n",
       "4   1633131792793516  <p>Vous avez adoré la première édition ? Nous ...   \n",
       "5  16331317955885136  <p>Commençons cette semaine avec une belle opp...   \n",
       "\n",
       "                                            img_post nb_commentaires_post  \\\n",
       "0  https://z-m-scontent.fabj2-1.fna.fbcdn.net/v/t...                   15   \n",
       "1  https://z-m-scontent.fabj2-1.fna.fbcdn.net/v/t...                    2   \n",
       "2  https://z-m-scontent.fabj2-1.fna.fbcdn.net/v/t...                    1   \n",
       "3  https://z-m-scontent.fabj2-1.fna.fbcdn.net/v/t...                    4   \n",
       "4  https://z-m-scontent.fabj2-1.fna.fbcdn.net/v/t...                    0   \n",
       "5  https://z-m-scontent.fabj2-1.fna.fbcdn.net/v/t...                    3   \n",
       "\n",
       "                                           lien_post nb_commentaire_pos  \\\n",
       "0  https://m.facebook.com/story.php?story_fbid=41...                  9   \n",
       "1  https://m.facebook.com/story.php?story_fbid=41...                  1   \n",
       "2  https://m.facebook.com/story.php?story_fbid=41...                  0   \n",
       "3  https://m.facebook.com/story.php?story_fbid=41...                  2   \n",
       "4  https://m.facebook.com/story.php?story_fbid=41...                  0   \n",
       "5  https://m.facebook.com/story.php?story_fbid=41...                  1   \n",
       "\n",
       "  nb_commentaire_neg  \n",
       "0                  6  \n",
       "1                  1  \n",
       "2                  1  \n",
       "3                  2  \n",
       "4                  0  \n",
       "5                  2  "
      ]
     },
     "metadata": {},
     "execution_count": 17
    }
   ],
   "metadata": {}
  },
  {
   "cell_type": "code",
   "execution_count": 9,
   "source": [
    "df.contenu_post"
   ],
   "outputs": [
    {
     "output_type": "execute_result",
     "data": {
      "text/plain": [
       "0    <p>Hier s'est tenue la présentation des résult...\n",
       "1    <p>« Move for youth »  c’est le thème de l’act...\n",
       "Name: contenu_post, dtype: object"
      ]
     },
     "metadata": {},
     "execution_count": 9
    }
   ],
   "metadata": {}
  },
  {
   "cell_type": "code",
   "execution_count": 14,
   "source": [
    "df"
   ],
   "outputs": [
    {
     "output_type": "execute_result",
     "data": {
      "text/html": [
       "<div>\n",
       "<style scoped>\n",
       "    .dataframe tbody tr th:only-of-type {\n",
       "        vertical-align: middle;\n",
       "    }\n",
       "\n",
       "    .dataframe tbody tr th {\n",
       "        vertical-align: top;\n",
       "    }\n",
       "\n",
       "    .dataframe thead th {\n",
       "        text-align: right;\n",
       "    }\n",
       "</style>\n",
       "<table border=\"1\" class=\"dataframe\">\n",
       "  <thead>\n",
       "    <tr style=\"text-align: right;\">\n",
       "      <th></th>\n",
       "      <th>id</th>\n",
       "      <th>contenu_post</th>\n",
       "      <th>img_post</th>\n",
       "      <th>nb_commentaires_post</th>\n",
       "      <th>lien_post</th>\n",
       "      <th>nb_commentaire_pos</th>\n",
       "      <th>nb_commentaire_neg</th>\n",
       "    </tr>\n",
       "  </thead>\n",
       "  <tbody>\n",
       "    <tr>\n",
       "      <th>0</th>\n",
       "      <td>1633130718323102</td>\n",
       "      <td>&lt;p&gt;La Maison de la PME de Société Générale Côt...</td>\n",
       "      <td>https://z-m-scontent.fabj2-1.fna.fbcdn.net/v/t...</td>\n",
       "      <td>15</td>\n",
       "      <td>https://m.facebook.com/story.php?story_fbid=41...</td>\n",
       "      <td>8</td>\n",
       "      <td>7</td>\n",
       "    </tr>\n",
       "    <tr>\n",
       "      <th>1</th>\n",
       "      <td>16331307214245453</td>\n",
       "      <td>&lt;p&gt;[Concours Jeunes Talents Art Contemporain]&lt;...</td>\n",
       "      <td>https://z-m-scontent.fabj2-1.fna.fbcdn.net/v/t...</td>\n",
       "      <td>2</td>\n",
       "      <td>https://m.facebook.com/story.php?story_fbid=41...</td>\n",
       "      <td>1</td>\n",
       "      <td>1</td>\n",
       "    </tr>\n",
       "  </tbody>\n",
       "</table>\n",
       "</div>"
      ],
      "text/plain": [
       "                  id                                       contenu_post  \\\n",
       "0   1633130718323102  <p>La Maison de la PME de Société Générale Côt...   \n",
       "1  16331307214245453  <p>[Concours Jeunes Talents Art Contemporain]<...   \n",
       "\n",
       "                                            img_post nb_commentaires_post  \\\n",
       "0  https://z-m-scontent.fabj2-1.fna.fbcdn.net/v/t...                   15   \n",
       "1  https://z-m-scontent.fabj2-1.fna.fbcdn.net/v/t...                    2   \n",
       "\n",
       "                                           lien_post nb_commentaire_pos  \\\n",
       "0  https://m.facebook.com/story.php?story_fbid=41...                  8   \n",
       "1  https://m.facebook.com/story.php?story_fbid=41...                  1   \n",
       "\n",
       "  nb_commentaire_neg  \n",
       "0                  7  \n",
       "1                  1  "
      ]
     },
     "metadata": {},
     "execution_count": 14
    }
   ],
   "metadata": {}
  },
  {
   "cell_type": "code",
   "execution_count": null,
   "source": [],
   "outputs": [],
   "metadata": {}
  }
 ],
 "metadata": {
  "orig_nbformat": 4,
  "language_info": {
   "name": "python",
   "version": "3.8.8",
   "mimetype": "text/x-python",
   "codemirror_mode": {
    "name": "ipython",
    "version": 3
   },
   "pygments_lexer": "ipython3",
   "nbconvert_exporter": "python",
   "file_extension": ".py"
  },
  "kernelspec": {
   "name": "python3",
   "display_name": "Python 3.8.8 64-bit ('base': conda)"
  },
  "interpreter": {
   "hash": "8e51ea6e66708a53028f407f7f324efdff684fd8652dba57a60909259a53d71d"
  }
 },
 "nbformat": 4,
 "nbformat_minor": 2
}